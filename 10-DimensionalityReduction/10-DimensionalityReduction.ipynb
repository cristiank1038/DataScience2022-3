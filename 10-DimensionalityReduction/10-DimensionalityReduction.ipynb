{
 "cells": [
  {
   "cell_type": "markdown",
   "id": "ed8fa137",
   "metadata": {
    "slideshow": {
     "slide_type": "slide"
    }
   },
   "source": [
    "<br/>\n",
    "<img src=\"images/cd-logo-blue-600x600.png\" alt=\"\" width=\"130px\" align=\"left\"/>\n",
    "<img src=\"images/cd-logo-blue-600x600.png\" alt=\"\" width=\"130px\" align=\"right\"/>\n",
    "<div align=\"center\">\n",
    "<h2>Bootcamp Data Science - Módulo 3</h2><br/>\n",
    "<h1>Reducción de dimensionalidad</h1>\n",
    "<br/><br/>\n",
    "    <b>Instructor Principal:</b> Patricio Olivares polivares@codingdojo.cl <br/>\n",
    "    <b>Instructor Asistente:</b> Jesús Ortiz jortiz@codingdojo.cl<br/><br/>\n",
    "    <b>Coding Dojo</b>\n",
    "</div>\n",
    "<br>\n",
    "Fuente: \"Hands-on Machine Learning with Scikit-Learn, Keras & TensorFlow\""
   ]
  },
  {
   "cell_type": "markdown",
   "id": "19951c3c",
   "metadata": {
    "slideshow": {
     "slide_type": "slide"
    }
   },
   "source": [
    "# Reducción de dimensionalidad"
   ]
  },
  {
   "cell_type": "markdown",
   "id": "ae244761",
   "metadata": {
    "slideshow": {
     "slide_type": "fragment"
    }
   },
   "source": [
    "- Hasta el momento, hemos visto datasets pequeños, con pocas características (columnas).\n",
    "- Datasets con un mayor número de columnas son muy comunes. Estos producen:\n",
    "    - Entrenamientos más lentos\n",
    "    - Dificultad para encontrar una buena solución\n",
    "- Es en este contexto donde se plantea la **reducción de dimensionalidad**\n",
    "- Reducción de dimensionalidad viene acompañada de **pérdida de información** (ej: jpeg)\n"
   ]
  },
  {
   "cell_type": "markdown",
   "id": "e543d21f",
   "metadata": {
    "slideshow": {
     "slide_type": "fragment"
    }
   },
   "source": [
    "<img src=\"images/Webp_Jpeg_Lossless_comparative.png\" alt=\"\" width=\"900px\"/>\n",
    "<br>\n",
    "\n",
    "Author: Christophe Mehay"
   ]
  },
  {
   "cell_type": "markdown",
   "id": "abf5e89d",
   "metadata": {
    "slideshow": {
     "slide_type": "slide"
    }
   },
   "source": [
    "# Principal Components Analysis (PCA-Análisis de Componentes Principales)"
   ]
  },
  {
   "cell_type": "markdown",
   "id": "f9dc2089",
   "metadata": {
    "slideshow": {
     "slide_type": "fragment"
    }
   },
   "source": [
    "- Una de las técnicas más populares para reducción de dimensionalidad\n",
    "- Identifica el hiperplano de mayor varianza respecto a los datos, y luego proyecta los datos en él.\n",
    "- PCA nos permite:\n",
    "    - Poder visualizar datos con alta dimensionalidad que de otra forma no sería posible\n",
    "    - Reducción de dimensionalidad para mejora en la velocidad de entrenamiento\n",
    "- En PCA, es importante que los datos se encuentren en la misma escala (sino, se debe **escalar**)\n",
    "- PCA identifica los ejes de mayor varianza (componentes principales)"
   ]
  },
  {
   "cell_type": "markdown",
   "id": "7dc27521",
   "metadata": {
    "slideshow": {
     "slide_type": "slide"
    }
   },
   "source": [
    "# Usando PCA para visualización"
   ]
  },
  {
   "cell_type": "code",
   "execution_count": null,
   "id": "30050ee1",
   "metadata": {
    "slideshow": {
     "slide_type": "fragment"
    }
   },
   "outputs": [],
   "source": [
    "import matplotlib.pyplot as plt\n",
    "from sklearn.datasets import load_breast_cancer\n",
    "import pandas as pd\n",
    "\n",
    "cancer_data = load_breast_cancer(as_frame=True) # Para obtener datos como dataframe\n",
    "print(cancer_data.target_names) # 0 Maligno, 1 benigno"
   ]
  },
  {
   "cell_type": "code",
   "execution_count": null,
   "id": "0ba34773",
   "metadata": {},
   "outputs": [],
   "source": [
    "cancer_data.frame.head()"
   ]
  },
  {
   "cell_type": "code",
   "execution_count": null,
   "id": "92c8ebae",
   "metadata": {},
   "outputs": [],
   "source": [
    "len(cancer_data.feature_names)"
   ]
  },
  {
   "cell_type": "code",
   "execution_count": null,
   "id": "f3a5f56b",
   "metadata": {
    "slideshow": {
     "slide_type": "fragment"
    }
   },
   "outputs": [],
   "source": [
    "df = cancer_data.frame\n",
    "print(df.info())\n",
    "df.head()"
   ]
  },
  {
   "cell_type": "code",
   "execution_count": null,
   "id": "2fa208a8",
   "metadata": {
    "slideshow": {
     "slide_type": "fragment"
    }
   },
   "outputs": [],
   "source": [
    "df.hist(bins=20,figsize=(15,10))\n",
    "plt.tight_layout()\n",
    "plt.show()"
   ]
  },
  {
   "cell_type": "code",
   "execution_count": null,
   "id": "4c060402",
   "metadata": {
    "slideshow": {
     "slide_type": "fragment"
    }
   },
   "outputs": [],
   "source": [
    "from sklearn.preprocessing import StandardScaler\n",
    "\n",
    "X = cancer_data.data\n",
    "y = cancer_data.target\n",
    "\n",
    "scaler = StandardScaler()\n",
    "X = pd.DataFrame(scaler.fit_transform(X), columns=cancer_data.feature_names)"
   ]
  },
  {
   "cell_type": "code",
   "execution_count": null,
   "id": "d42bf458",
   "metadata": {
    "slideshow": {
     "slide_type": "fragment"
    }
   },
   "outputs": [],
   "source": [
    "X.head()"
   ]
  },
  {
   "cell_type": "code",
   "execution_count": null,
   "id": "d55cc52e",
   "metadata": {
    "slideshow": {
     "slide_type": "fragment"
    }
   },
   "outputs": [],
   "source": [
    "# Todos los gráficos entre pares de columnas!\n",
    "colors = {0:'red', 1:'green'}\n",
    "color_map = y.map(colors)\n",
    "columns = X.columns.tolist()\n",
    "\n",
    "i = 0 \n",
    "for x in columns:\n",
    "    columns.remove(x)\n",
    "    for y in columns:\n",
    "        print(\"Plotting \", x, \" vs \", y)\n",
    "        X.plot.scatter(x=x, y=y, c=color_map)\n",
    "        i += 1\n",
    "print(\"Número de gráficos: \", i)\n",
    "plt.show()\n"
   ]
  },
  {
   "cell_type": "code",
   "execution_count": null,
   "id": "82ec9676",
   "metadata": {
    "slideshow": {
     "slide_type": "fragment"
    }
   },
   "outputs": [],
   "source": [
    "from sklearn.decomposition import PCA\n",
    "\n",
    "pca = PCA()\n",
    "#pca.fit(X)\n",
    "#pca.transform(X)\n",
    "pcs = pca.fit_transform(X)\n",
    "print(pcs.shape)\n",
    "print(X.shape)"
   ]
  },
  {
   "cell_type": "code",
   "execution_count": null,
   "id": "237bd77e",
   "metadata": {},
   "outputs": [],
   "source": [
    "\n",
    "plt.figure(figsize=(10,6))\n",
    "plt.scatter(pcs[:,0], pcs[:,1], c = color_map)\n",
    "plt.title('Gráfico 2 componentes principales')\n",
    "plt.xlabel('PC1')\n",
    "plt.ylabel('PC2')\n",
    "plt.show()\n"
   ]
  },
  {
   "cell_type": "markdown",
   "id": "69a12135",
   "metadata": {
    "slideshow": {
     "slide_type": "slide"
    }
   },
   "source": [
    "# Usando PCA para entrenamiento"
   ]
  },
  {
   "cell_type": "code",
   "execution_count": null,
   "id": "4b4ea2fd",
   "metadata": {
    "slideshow": {
     "slide_type": "fragment"
    }
   },
   "outputs": [],
   "source": [
    "from sklearn.decomposition import PCA\n",
    "from sklearn.model_selection import train_test_split\n",
    "from sklearn.linear_model import LogisticRegression\n",
    "\n",
    "\n",
    "X = cancer_data.data\n",
    "y = cancer_data.target\n",
    "\n",
    "X_train, X_test, y_train, y_test = train_test_split(X, y, random_state=42, test_size=0.2, stratify=y)\n",
    "\n",
    "# Instanciar Escalador Estándar\n",
    "scaler = StandardScaler()\n",
    "# Ajustar y transformar datos\n",
    "X_train = scaler.fit_transform(X_train)\n",
    "X_test = scaler.transform(X_test)"
   ]
  },
  {
   "cell_type": "code",
   "execution_count": null,
   "id": "2127d807",
   "metadata": {
    "slideshow": {
     "slide_type": "fragment"
    }
   },
   "outputs": [],
   "source": [
    "pca = PCA(n_components=10) # Prueba cambiando el número de componentes!!\n",
    "X_train_pca = pca.fit_transform(X_train)\n",
    "X_test_pca = pca.transform(X_test)"
   ]
  },
  {
   "cell_type": "code",
   "execution_count": null,
   "id": "8439838e",
   "metadata": {
    "slideshow": {
     "slide_type": "fragment"
    }
   },
   "outputs": [],
   "source": [
    "%%time\n",
    "# Sin PCA\n",
    "logreg = LogisticRegression()\n",
    "logreg.fit(X_train, y_train)\n",
    "\n",
    "logreg.score(X_test, y_test)"
   ]
  },
  {
   "cell_type": "code",
   "execution_count": null,
   "id": "6b5e3f80",
   "metadata": {
    "slideshow": {
     "slide_type": "fragment"
    }
   },
   "outputs": [],
   "source": [
    "%%time\n",
    "# Con PCA\n",
    "logreg_pca = LogisticRegression()\n",
    "logreg_pca.fit(X_train_pca, y_train)\n",
    "\n",
    "logreg_pca.score(X_test_pca, y_test)"
   ]
  },
  {
   "cell_type": "markdown",
   "id": "1b2de466",
   "metadata": {
    "slideshow": {
     "slide_type": "slide"
    }
   },
   "source": [
    "# Escogiendo cantidad de componentes PCA"
   ]
  },
  {
   "cell_type": "markdown",
   "id": "763a11da",
   "metadata": {
    "slideshow": {
     "slide_type": "fragment"
    }
   },
   "source": [
    "Existen varios criterios para escoger los componentes más importantes\n",
    "- Criterio del codo en base a la varianza (utilizar atributo ```explained_variance_ratio_``` presente en objeto PCA)"
   ]
  },
  {
   "cell_type": "code",
   "execution_count": null,
   "id": "2edece35",
   "metadata": {
    "slideshow": {
     "slide_type": "fragment"
    }
   },
   "outputs": [],
   "source": [
    "pca = PCA()\n",
    "X_train_pca = pca.fit_transform(X_train)\n",
    "\n",
    "plt.figure(figsize=(10,6))\n",
    "plt.plot(pca.explained_variance_ratio_,'bo-')\n",
    "plt.show()"
   ]
  },
  {
   "cell_type": "markdown",
   "id": "7697a03d",
   "metadata": {
    "slideshow": {
     "slide_type": "fragment"
    }
   },
   "source": [
    "- Porcentaje de la varianza a tomar en cuenta. Este dato se entrega en el entrenamiento.\n",
    "    - Ej. Si deseamos las componentes que contienen el 95% de la varianza, entrenamos el algoritmo PCA como se ve a continuación"
   ]
  },
  {
   "cell_type": "code",
   "execution_count": null,
   "id": "4541761b",
   "metadata": {
    "slideshow": {
     "slide_type": "fragment"
    }
   },
   "outputs": [],
   "source": [
    "pca = PCA(n_components=0.95)\n",
    "X_train_pca = pca.fit_transform(X_train)\n",
    "\n",
    "print(\"El número de componentes es\", pca.n_components_, \"de\", pca.n_features_)"
   ]
  },
  {
   "cell_type": "markdown",
   "id": "135b1a68",
   "metadata": {
    "slideshow": {
     "slide_type": "fragment"
    }
   },
   "source": [
    "# Ejemplo de uso PCA: eigenfaces"
   ]
  },
  {
   "cell_type": "code",
   "execution_count": null,
   "id": "00e2cc2d",
   "metadata": {},
   "outputs": [],
   "source": [
    "from sklearn.datasets import fetch_olivetti_faces\n",
    "\n",
    "faces = fetch_olivetti_faces()\n",
    "X = faces.data\n",
    "y = faces.target\n",
    "\n",
    "fig = plt.figure(figsize=(13,13))\n",
    "\n",
    "n = 16\n",
    "for i in range(1,n+1):\n",
    "    ax = fig.add_subplot(4,4,i)\n",
    "    ax.imshow(X[i].reshape(64,64), cmap='gray')\n",
    "\n",
    "plt.show()\n",
    "print(X.shape)"
   ]
  },
  {
   "cell_type": "code",
   "execution_count": null,
   "id": "68fd70eb",
   "metadata": {},
   "outputs": [],
   "source": [
    "from sklearn.decomposition import PCA\n",
    "\n",
    "pca = PCA()\n",
    "pcs = pca.fit_transform(X)\n",
    "\n",
    "pca.components_.shape"
   ]
  },
  {
   "cell_type": "code",
   "execution_count": null,
   "id": "a06591c5",
   "metadata": {},
   "outputs": [],
   "source": [
    "pca.singular_values_"
   ]
  },
  {
   "cell_type": "code",
   "execution_count": null,
   "id": "e73da293",
   "metadata": {},
   "outputs": [],
   "source": [
    "fig = plt.figure(figsize=(13,13))\n",
    "\n",
    "n = 16\n",
    "for i in range(0,n):\n",
    "    ax = fig.add_subplot(4,4,i+1)\n",
    "    ax.imshow(pca.components_[i].reshape(64,64), cmap='gray')\n",
    "\n",
    "plt.show()"
   ]
  },
  {
   "cell_type": "markdown",
   "id": "9cb3b3ba",
   "metadata": {
    "slideshow": {
     "slide_type": "slide"
    }
   },
   "source": [
    "# Linear Discriminant Analysis (LDA)"
   ]
  },
  {
   "cell_type": "markdown",
   "id": "efb58d5d",
   "metadata": {
    "slideshow": {
     "slide_type": "fragment"
    }
   },
   "source": [
    "- Es un algoritmo de clasificación, que aprende los ejes más discriminativos entre clases.\n",
    "- La proyección resultante mantiene las clases tan separadas como sea posible."
   ]
  },
  {
   "cell_type": "code",
   "execution_count": null,
   "id": "cb0adfe5",
   "metadata": {},
   "outputs": [],
   "source": [
    "import matplotlib.pyplot as plt\n",
    "from sklearn.datasets import load_breast_cancer\n",
    "import pandas as pd\n",
    "\n",
    "cancer_data = load_breast_cancer(as_frame=True) # Para obtener datos como dataframe\n",
    "print(cancer_data.target_names) # 0 Maligno, 1 benigno"
   ]
  },
  {
   "cell_type": "code",
   "execution_count": null,
   "id": "856acfa3",
   "metadata": {
    "slideshow": {
     "slide_type": "fragment"
    }
   },
   "outputs": [],
   "source": [
    "from sklearn.discriminant_analysis import LinearDiscriminantAnalysis\n",
    "from sklearn.model_selection import train_test_split\n",
    "from sklearn.preprocessing import StandardScaler\n",
    "import numpy as np\n",
    "\n",
    "X = cancer_data.data\n",
    "y = cancer_data.target\n",
    "\n",
    "X_train, X_test, y_train, y_test = train_test_split(X, y, random_state=42, test_size=0.2, stratify=y)\n",
    "\n",
    "# Instanciar Escalador Estándar\n",
    "scaler = StandardScaler()\n",
    "# Ajustar y transformar datos\n",
    "X_train = scaler.fit_transform(X_train)\n",
    "X_test = scaler.transform(X_test)"
   ]
  },
  {
   "cell_type": "code",
   "execution_count": null,
   "id": "aa8491d7",
   "metadata": {
    "slideshow": {
     "slide_type": "fragment"
    }
   },
   "outputs": [],
   "source": [
    "lda = LinearDiscriminantAnalysis()\n",
    "X_train_lda = lda.fit_transform(X_train, y_train)\n",
    "lda.score(X_test, y_test)"
   ]
  },
  {
   "cell_type": "code",
   "execution_count": null,
   "id": "f12fe827",
   "metadata": {},
   "outputs": [],
   "source": [
    "# Proyectando\n",
    "colors = {0:'red', 1:'green'}\n",
    "color_map = y_train.map(colors)\n",
    "\n",
    "plt.figure(figsize=(10,6))\n",
    "plt.scatter(X_train_lda,np.zeros_like(X_train_lda), c=color_map)\n",
    "plt.show()"
   ]
  },
  {
   "cell_type": "markdown",
   "id": "ba661a96",
   "metadata": {
    "slideshow": {
     "slide_type": "slide"
    }
   },
   "source": [
    "# Actividad 8"
   ]
  },
  {
   "cell_type": "markdown",
   "id": "e847f5ef",
   "metadata": {
    "slideshow": {
     "slide_type": "fragment"
    }
   },
   "source": [
    "¡Hora de poner en práctica todo lo aprendido hasta ahora!\n",
    "\n",
    "- Estudie el dataset California Housing presente en los dataset de Scikit-Learn (enlace [aquí](https://scikit-learn.org/stable/datasets/real_world.html#california-housing-dataset))\n",
    "- Cree un Pipeline completo que permita predecir el precio de una casa.\n",
    "- Utilice un algoritmo de reducción de dimensionalidad y utilice las nuevas componentes para predecir el precio. Compare sus resultados con su pipeline original."
   ]
  },
  {
   "cell_type": "code",
   "execution_count": null,
   "id": "2a0a3261",
   "metadata": {
    "slideshow": {
     "slide_type": "skip"
    }
   },
   "outputs": [],
   "source": [
    "from IPython.core.display import HTML\n",
    "HTML(\"\"\"\n",
    "<style>\n",
    ".output_png {\n",
    "    display: table-cell;\n",
    "    text-align: center;\n",
    "    vertical-align: middle;\n",
    "}\n",
    "</style>\n",
    "\"\"\")\n",
    "#codigo extra, para que imagenes de matplotlib\n",
    "#estén centradas en las diapositivas, ejecutar antes de lanzar los ejemplos."
   ]
  }
 ],
 "metadata": {
  "celltoolbar": "Slideshow",
  "kernelspec": {
   "display_name": "Python 3 (ipykernel)",
   "language": "python",
   "name": "python3"
  },
  "language_info": {
   "codemirror_mode": {
    "name": "ipython",
    "version": 3
   },
   "file_extension": ".py",
   "mimetype": "text/x-python",
   "name": "python",
   "nbconvert_exporter": "python",
   "pygments_lexer": "ipython3",
   "version": "3.8.13"
  }
 },
 "nbformat": 4,
 "nbformat_minor": 5
}
